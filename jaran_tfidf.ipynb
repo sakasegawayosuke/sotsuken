{
 "cells": [
  {
   "cell_type": "markdown",
   "metadata": {},
   "source": [
    "# tfidfを使って観光地ごとの特徴的な単語を抽出する"
   ]
  },
  {
   "cell_type": "markdown",
   "metadata": {},
   "source": [
    "ここでは、収集した観光地のレビューから、tf-idfによる観光地ごとの特徴的な単語を算出する"
   ]
  },
  {
   "cell_type": "code",
   "execution_count": 5,
   "metadata": {},
   "outputs": [],
   "source": [
    "# ライブラリのインポート\n",
    "import MeCab\n",
    "import collections\n",
    "import math\n",
    "import sqlite3"
   ]
  },
  {
   "cell_type": "markdown",
   "metadata": {},
   "source": [
    "レビューを読み込む"
   ]
  },
  {
   "cell_type": "code",
   "execution_count": 3,
   "metadata": {
    "tags": [
     "outputPrepend"
    ]
   },
   "outputs": [],
   "source": [
    "# 各観光地の名前を配列\n",
    "places = ['hakataeki', 'uminaka', 'doom', 'kaihinkouen', 'ohori', 'dazaifu']\n",
    "\n",
    "# 各観光地の口コミデータ1000件を一つにまとめたものを配列する\n",
    "text_all = []\n",
    "\n",
    "for p in places:\n",
    "    with open('data/review/{}.txt'.format(p)) as f:\n",
    "        s = f.read()\n",
    "    \n",
    "    text_all.append(s)\n",
    "\n",
    "# print(text_all[0])"
   ]
  },
  {
   "cell_type": "markdown",
   "metadata": {},
   "source": [
    "ある観光地のレビューをまとめたものを一つの文書として、他の観光地の文書との比較でtf-idfを算出する"
   ]
  },
  {
   "cell_type": "code",
   "execution_count": 6,
   "metadata": {},
   "outputs": [
    {
     "name": "stdout",
     "output_type": "stream",
     "text": [
      "検索した地域:hakataeki\n",
      "単語：お土産, \t tf-idf値：0.016257937379612255\n",
      "単語：駅ビル, \t tf-idf値：0.014434557011355617\n",
      "単語：新幹線, \t tf-idf値：0.014247983022216394\n",
      "単語：阪急, \t tf-idf値：0.013968926140021565\n",
      "単語：デパート, \t tf-idf値：0.009312617426681043\n",
      "単語：博多口, \t tf-idf値：0.009312617426681043\n",
      "単語：玄関口, \t tf-idf値：0.008381355684012938\n",
      "単語：買い物, \t tf-idf値：0.008128968689806127\n",
      "単語：イルミネーション, \t tf-idf値：0.007566193934358011\n",
      "単語：商業施設, \t tf-idf値：0.006298526551841166\n",
      "\n",
      "検索した地域:uminaka\n",
      "単語：イルカ, \t tf-idf値：0.07252986007585094\n",
      "単語：水族館, \t tf-idf値：0.054855917160815997\n",
      "単語：イルカショー, \t tf-idf値：0.03784891548785784\n",
      "単語：ショー, \t tf-idf値：0.029861887147512176\n",
      "単語：水槽, \t tf-idf値：0.02651091437255241\n",
      "単語：魚, \t tf-idf値：0.01717932238411881\n",
      "単語：アシカ, \t tf-idf値：0.014672707325689385\n",
      "単語：ペンギン, \t tf-idf値：0.014051905997288347\n",
      "単語：マリンワールド, \t tf-idf値：0.013172089531016607\n",
      "単語：ラッコ, \t tf-idf値：0.011340134664478316\n",
      "\n",
      "検索した地域:doom\n",
      "単語：野球, \t tf-idf値：0.08058790232183066\n",
      "単語：観戦, \t tf-idf値：0.056411531625281466\n",
      "単語：試合, \t tf-idf値：0.04547243128756794\n",
      "単語：ソフトバンクホークス, \t tf-idf値：0.025775816665680223\n",
      "単語：ドーム, \t tf-idf値：0.02018112517167352\n",
      "単語：ホークス, \t tf-idf値：0.018091161745717087\n",
      "単語：球場, \t tf-idf値：0.016939905998262367\n",
      "単語：ソフトバンク, \t tf-idf値：0.01578865025080764\n",
      "単語：本拠地, \t tf-idf値：0.015319589150357114\n",
      "単語：ヤフオクドーム, \t tf-idf値：0.014012555001160755\n",
      "\n",
      "検索した地域:kaihinkouen\n",
      "単語：プール, \t tf-idf値：0.02385532080999877\n",
      "単語：公園, \t tf-idf値：0.022941988088327127\n",
      "単語：自転車, \t tf-idf値：0.02057894014398108\n",
      "単語：コスモス, \t tf-idf値：0.018475297879844445\n",
      "単語：動物, \t tf-idf値：0.014791113228486403\n",
      "単語：サイクリング, \t tf-idf値：0.014469567288736699\n",
      "単語：動物園, \t tf-idf値：0.014148021348986992\n",
      "単語：園内, \t tf-idf値：0.012969019569904745\n",
      "単語：レンタサイクル, \t tf-idf値：0.011996946675223667\n",
      "単語：お花, \t tf-idf値：0.01146847185107279\n",
      "\n",
      "検索した地域:ohori\n",
      "単語：大濠公園, \t tf-idf値：0.03862438928332073\n",
      "単語：公園, \t tf-idf値：0.03554788883045535\n",
      "単語：ボート, \t tf-idf値：0.0334744707122113\n",
      "単語：ジョギング, \t tf-idf値：0.019209138540661988\n",
      "単語：花火大会, \t tf-idf値：0.018539706855993952\n",
      "単語：池, \t tf-idf値：0.01825805963276306\n",
      "単語：湖, \t tf-idf値：0.014419771999106407\n",
      "単語：スタバ, \t tf-idf値：0.01150247816806107\n",
      "単語：ランニング, \t tf-idf値：0.011480446587267682\n",
      "単語：犬, \t tf-idf値：0.010275183361737567\n",
      "\n",
      "検索した地域:dazaifu\n",
      "単語：参道, \t tf-idf値：0.05109678232587075\n",
      "単語：参拝, \t tf-idf値：0.03489536353961905\n",
      "単語：太宰府天満宮, \t tf-idf値：0.03287316392178031\n",
      "単語：学問の神様, \t tf-idf値：0.03261054806976304\n",
      "単語：梅ヶ枝餅, \t tf-idf値：0.02950155736570028\n",
      "単語：天満宮, \t tf-idf値：0.026171522654714282\n",
      "単語：お参り, \t tf-idf値：0.0247251147445869\n",
      "単語：菅原道真, \t tf-idf値：0.019940207736925168\n",
      "単語：受験, \t tf-idf値：0.01910936574788662\n",
      "単語：初詣, \t tf-idf値：0.018693944753367345\n",
      "\n"
     ]
    }
   ],
   "source": [
    "#---------------------------------macab用----------------------------------------\n",
    "tagger=MeCab.Tagger(\"-d /usr/local/lib/mecab/dic/mecab-ipadic-neologd\")\n",
    "\n",
    "#---------------------------------口コミデータから抽出----------------------------------------\n",
    "#ここで、各観光地の口コミデータ毎の単語の出現回数とtfを値を求める\n",
    "word_list = []\n",
    "nouns_list = []\n",
    "\n",
    "for t in text_all:\n",
    "  #名詞を格納する配列を用意\n",
    "  nouns = []\n",
    "\n",
    "  #名詞を抽出\n",
    "  for line in tagger.parse(t).splitlines():\n",
    "    line = line.split(',')\n",
    "    line[0] = line[0].split('\\t')\n",
    "    if len(line[0]) != 2:\n",
    "        continue\n",
    "    if line[0][1] == \"名詞\":\n",
    "        nouns.append(line[0][0])\n",
    "    \n",
    "  nouns_list.append(nouns)\n",
    "\n",
    "#文書中の名詞とその出現回数をカウント\n",
    "  counter = collections.Counter(nouns)\n",
    "\n",
    "  temp_list = []\n",
    "  for i in range(len(counter)):\n",
    "    word = counter.most_common()[i][0]\n",
    "    count = counter.most_common()[i][1]\n",
    "    tf = counter.most_common()[i][1] / len(nouns)\n",
    "    temp = []\n",
    "    temp = [word,count,tf]\n",
    "\n",
    "    temp_list.append(temp)\n",
    "\n",
    "  word_list.append(temp_list)\n",
    "\n",
    "\n",
    "  #idfを求める関数\n",
    "def idf(all_doc_count ,doc_count):\n",
    "  temp = (all_doc_count+1) / (doc_count+1)\n",
    "  result = math.log(( temp ), 1.5)\n",
    "  return result\n",
    "\n",
    "#tf-idfを求める関数\n",
    "def tf_idf(tf,idf):\n",
    "  return tf*idf\n",
    "\n",
    "for i in range(len(text_all)):\n",
    "  for j in range(len(word_list[i])):\n",
    "    temp_count = 0  #ある単語を含んでいる文書の数\n",
    "\n",
    "    for k in range(len(nouns_list)):\n",
    "      if word_list[i][j][0] in nouns_list[k]:\n",
    "        temp_count += 1\n",
    "    \n",
    "    temp_idf = idf(len(text_all), temp_count) #ある単語のidfを計算\n",
    "    word_list[i][j].append(temp_idf)\n",
    "\n",
    "    temp_tf_idf = tf_idf(word_list[i][j][2], temp_idf)  #ある単語のtf-idfを計算\n",
    "    word_list[i][j].append(temp_tf_idf)  \n",
    "\n",
    "name_count = 0\n",
    "\n",
    "for word in word_list:\n",
    "  list.sort(word, key=lambda x: x[4], reverse = True)\n",
    "  print(\"検索した地域:{}\".format(places[name_count]))\n",
    "  name_count += 1\n",
    "  for i in range(10):\n",
    "    print(\"単語：{0}, \\t tf-idf値：{1}\". format(word[i][0], word[i][4]))\n",
    "  print(\"\")"
   ]
  },
  {
   "cell_type": "markdown",
   "metadata": {},
   "source": [
    "観光地ごとの特徴的な単語とそのtf-idfの値をデータベースに保存する"
   ]
  },
  {
   "cell_type": "code",
   "execution_count": 8,
   "metadata": {},
   "outputs": [],
   "source": [
    "\n",
    "conn = sqlite3.connect('data/tfidf_db.db')\n",
    "c = conn.cursor()\n",
    "\n",
    "for i in range(len(places)):  \n",
    "  # テーブルの作成\n",
    "  c.execute(\"create table if not exists {} (word text, tfidf double)\" .format(places[i]))\n",
    "\n",
    "  # データの挿入\n",
    "  for j in range(len(word_list[i])):\n",
    "    c.execute(\"insert into {} values(?,?)\" .format(places[i]), [word_list[i][j][0], word_list[i][j][4]])\n",
    "  \n",
    "\n",
    "conn.commit()\n",
    "conn.close()"
   ]
  },
  {
   "cell_type": "code",
   "execution_count": null,
   "metadata": {},
   "outputs": [],
   "source": []
  }
 ],
 "metadata": {
  "kernelspec": {
   "display_name": "Python 3.8.7 64-bit ('3.8.7': pyenv)",
   "name": "python387jvsc74a57bd09f1e5f8df66e0355b93d6a73e8e18cceb2fedad000b7b1dd4a514e55097c6a9d"
  },
  "language_info": {
   "codemirror_mode": {
    "name": "ipython",
    "version": 3
   },
   "file_extension": ".py",
   "mimetype": "text/x-python",
   "name": "python",
   "nbconvert_exporter": "python",
   "pygments_lexer": "ipython3",
   "version": "3.8.7"
  },
  "metadata": {
   "interpreter": {
    "hash": "9f1e5f8df66e0355b93d6a73e8e18cceb2fedad000b7b1dd4a514e55097c6a9d"
   }
  },
  "orig_nbformat": 2
 },
 "nbformat": 4,
 "nbformat_minor": 2
}
